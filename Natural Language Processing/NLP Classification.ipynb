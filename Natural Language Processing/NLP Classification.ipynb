{
 "cells": [
  {
   "cell_type": "code",
   "execution_count": 1,
   "metadata": {},
   "outputs": [],
   "source": [
    "import pandas as pd\n",
    "from nltk.tokenize import word_tokenize\n",
    "from nltk.corpus import stopwords\n",
    "from nltk import WordNetLemmatizer\n",
    "from nltk.corpus import wordnet\n",
    "from nltk import pos_tag\n",
    "from sklearn.preprocessing import LabelEncoder\n",
    "from sklearn.base import BaseEstimator, TransformerMixin\n",
    "from imblearn.pipeline import Pipeline\n",
    "from imblearn.over_sampling import SMOTE\n",
    "from sklearn import set_config\n",
    "set_config(display=\"diagram\")\n",
    "from sklearn.naive_bayes import ComplementNB\n",
    "from sklearn.metrics import classification_report\n",
    "from sklearn.metrics import plot_roc_curve, roc_auc_score,plot_confusion_matrix"
   ]
  },
  {
   "cell_type": "markdown",
   "metadata": {},
   "source": [
    "# Reading and Changing the Label to Numberic"
   ]
  },
  {
   "cell_type": "code",
   "execution_count": 2,
   "metadata": {},
   "outputs": [],
   "source": [
    "df = pd.read_csv('Data/raw_clean_data.csv')"
   ]
  },
  {
   "cell_type": "code",
   "execution_count": 3,
   "metadata": {},
   "outputs": [
    {
     "data": {
      "text/html": [
       "<div>\n",
       "<style scoped>\n",
       "    .dataframe tbody tr th:only-of-type {\n",
       "        vertical-align: middle;\n",
       "    }\n",
       "\n",
       "    .dataframe tbody tr th {\n",
       "        vertical-align: top;\n",
       "    }\n",
       "\n",
       "    .dataframe thead th {\n",
       "        text-align: right;\n",
       "    }\n",
       "</style>\n",
       "<table border=\"1\" class=\"dataframe\">\n",
       "  <thead>\n",
       "    <tr style=\"text-align: right;\">\n",
       "      <th></th>\n",
       "      <th>text</th>\n",
       "      <th>rating</th>\n",
       "      <th>Label</th>\n",
       "    </tr>\n",
       "  </thead>\n",
       "  <tbody>\n",
       "    <tr>\n",
       "      <th>0</th>\n",
       "      <td>beautiful accomodations stayed hotel santa mar...</td>\n",
       "      <td>4</td>\n",
       "      <td>Positive</td>\n",
       "    </tr>\n",
       "    <tr>\n",
       "      <th>1</th>\n",
       "      <td>great hotel great location hotel located la ra...</td>\n",
       "      <td>5</td>\n",
       "      <td>Positive</td>\n",
       "    </tr>\n",
       "    <tr>\n",
       "      <th>2</th>\n",
       "      <td>beautiful hotel great location like beautifull...</td>\n",
       "      <td>4</td>\n",
       "      <td>Positive</td>\n",
       "    </tr>\n",
       "    <tr>\n",
       "      <th>3</th>\n",
       "      <td>great deal waikiki trip hawaii outrigger luana...</td>\n",
       "      <td>4</td>\n",
       "      <td>Positive</td>\n",
       "    </tr>\n",
       "    <tr>\n",
       "      <th>4</th>\n",
       "      <td>choose airport hotel busy triparound australia...</td>\n",
       "      <td>1</td>\n",
       "      <td>Negative</td>\n",
       "    </tr>\n",
       "  </tbody>\n",
       "</table>\n",
       "</div>"
      ],
      "text/plain": [
       "                                                text  rating     Label\n",
       "0  beautiful accomodations stayed hotel santa mar...       4  Positive\n",
       "1  great hotel great location hotel located la ra...       5  Positive\n",
       "2  beautiful hotel great location like beautifull...       4  Positive\n",
       "3  great deal waikiki trip hawaii outrigger luana...       4  Positive\n",
       "4  choose airport hotel busy triparound australia...       1  Negative"
      ]
     },
     "execution_count": 3,
     "metadata": {},
     "output_type": "execute_result"
    }
   ],
   "source": [
    "df.head()"
   ]
  },
  {
   "cell_type": "code",
   "execution_count": 4,
   "metadata": {},
   "outputs": [],
   "source": [
    "le = LabelEncoder()\n",
    "df['Label'] = le.fit_transform(df['Label'])"
   ]
  },
  {
   "cell_type": "code",
   "execution_count": 5,
   "metadata": {},
   "outputs": [
    {
     "data": {
      "text/html": [
       "<div>\n",
       "<style scoped>\n",
       "    .dataframe tbody tr th:only-of-type {\n",
       "        vertical-align: middle;\n",
       "    }\n",
       "\n",
       "    .dataframe tbody tr th {\n",
       "        vertical-align: top;\n",
       "    }\n",
       "\n",
       "    .dataframe thead th {\n",
       "        text-align: right;\n",
       "    }\n",
       "</style>\n",
       "<table border=\"1\" class=\"dataframe\">\n",
       "  <thead>\n",
       "    <tr style=\"text-align: right;\">\n",
       "      <th></th>\n",
       "      <th>text</th>\n",
       "      <th>rating</th>\n",
       "      <th>Label</th>\n",
       "    </tr>\n",
       "  </thead>\n",
       "  <tbody>\n",
       "    <tr>\n",
       "      <th>0</th>\n",
       "      <td>beautiful accomodations stayed hotel santa mar...</td>\n",
       "      <td>4</td>\n",
       "      <td>1</td>\n",
       "    </tr>\n",
       "    <tr>\n",
       "      <th>1</th>\n",
       "      <td>great hotel great location hotel located la ra...</td>\n",
       "      <td>5</td>\n",
       "      <td>1</td>\n",
       "    </tr>\n",
       "    <tr>\n",
       "      <th>2</th>\n",
       "      <td>beautiful hotel great location like beautifull...</td>\n",
       "      <td>4</td>\n",
       "      <td>1</td>\n",
       "    </tr>\n",
       "    <tr>\n",
       "      <th>3</th>\n",
       "      <td>great deal waikiki trip hawaii outrigger luana...</td>\n",
       "      <td>4</td>\n",
       "      <td>1</td>\n",
       "    </tr>\n",
       "    <tr>\n",
       "      <th>4</th>\n",
       "      <td>choose airport hotel busy triparound australia...</td>\n",
       "      <td>1</td>\n",
       "      <td>0</td>\n",
       "    </tr>\n",
       "  </tbody>\n",
       "</table>\n",
       "</div>"
      ],
      "text/plain": [
       "                                                text  rating  Label\n",
       "0  beautiful accomodations stayed hotel santa mar...       4      1\n",
       "1  great hotel great location hotel located la ra...       5      1\n",
       "2  beautiful hotel great location like beautifull...       4      1\n",
       "3  great deal waikiki trip hawaii outrigger luana...       4      1\n",
       "4  choose airport hotel busy triparound australia...       1      0"
      ]
     },
     "execution_count": 5,
     "metadata": {},
     "output_type": "execute_result"
    }
   ],
   "source": [
    "df.head()"
   ]
  },
  {
   "cell_type": "markdown",
   "metadata": {},
   "source": [
    "# NLP"
   ]
  },
  {
   "cell_type": "code",
   "execution_count": 6,
   "metadata": {},
   "outputs": [],
   "source": [
    "class TextPreprocessor(BaseEstimator, TransformerMixin):\n",
    "    \n",
    "    def __init__(self):\n",
    "        \n",
    "        #define attributes to store if text preprocessing requires fitting from data\n",
    "        pass\n",
    "    \n",
    "    def fit(self, data, y = 0):\n",
    "        # this is where you would fit things like corpus specific stopwords\n",
    "        # fit probable bigrams with bigram model in here\n",
    "        \n",
    "        # save as parameters of Text preprocessor\n",
    "        \n",
    "        return self\n",
    "    \n",
    "    def transform(self, data, y = 0):\n",
    "        fully_normalized_corpus = data.apply(self.process_doc)\n",
    "        \n",
    "        return fully_normalized_corpus\n",
    "        \n",
    "    \n",
    "    def process_doc(self, doc):\n",
    "\n",
    "        #initialize lemmatizer\n",
    "        wnl = WordNetLemmatizer()\n",
    "        stop_words = stopwords.words('english')\n",
    "        \n",
    "        # helper function to change nltk's part of speech tagging to a wordnet format.\n",
    "        def pos_tagger(nltk_tag):\n",
    "            if nltk_tag.startswith('J'):\n",
    "                return wordnet.ADJ\n",
    "            elif nltk_tag.startswith('V'):\n",
    "                return wordnet.VERB\n",
    "            elif nltk_tag.startswith('N'):\n",
    "                return wordnet.NOUN\n",
    "            elif nltk_tag.startswith('R'):\n",
    "                return wordnet.ADV\n",
    "            else:         \n",
    "                return None\n",
    "\n",
    "\n",
    "        # remove stop words and punctuations, then lower case\n",
    "        doc_norm = [tok.lower() for tok in word_tokenize(doc) if ((tok.isalpha()) & (tok.lower() not in stop_words)) ]\n",
    "\n",
    "        #  POS detection on the result will be important in telling Wordnet's lemmatizer how to lemmatize\n",
    "\n",
    "        # creates list of tuples with tokens and POS tags in wordnet format\n",
    "        wordnet_tagged = list(map(lambda x: (x[0], pos_tagger(x[1])), pos_tag(doc_norm))) \n",
    "        doc_norm = [wnl.lemmatize(token, pos) for token, pos in wordnet_tagged if pos is not None]\n",
    "\n",
    "        return \" \".join(doc_norm)"
   ]
  },
  {
   "cell_type": "markdown",
   "metadata": {},
   "source": [
    "# Spliting the Data and Using the NLP Class to process the Data"
   ]
  },
  {
   "cell_type": "code",
   "execution_count": 7,
   "metadata": {},
   "outputs": [],
   "source": [
    "X = df['text']\n",
    "y = df['Label']"
   ]
  },
  {
   "cell_type": "code",
   "execution_count": 8,
   "metadata": {},
   "outputs": [],
   "source": [
    "from sklearn.model_selection import train_test_split\n",
    "X_train, X_test, y_train, y_test = train_test_split(X, y, test_size = 0.3)\n",
    "\n",
    "proc = TextPreprocessor()\n",
    "\n",
    "# again this kind of splitting only becomes important if fitting of text transformers fits to statistics of the text corpus\n",
    "transformed_train = proc.fit_transform(X_train) \n",
    "transformed_test = proc.transform(X_test)\n"
   ]
  },
  {
   "cell_type": "code",
   "execution_count": 9,
   "metadata": {},
   "outputs": [
    {
     "data": {
      "text/plain": [
       "'impressed malaysian bear generation chinese educate give second thought go china old peace homeland ancestor proud chinese late president richard open door hotel wife stay excellent food service star problem greeter say good morning conversation draw blank face staff reception hardly speak english wake olympics day chaotic say go economic indicator prosperity subway clean safe ready son shanghai beijing'"
      ]
     },
     "execution_count": 9,
     "metadata": {},
     "output_type": "execute_result"
    }
   ],
   "source": [
    "transformed_train[5455]"
   ]
  },
  {
   "cell_type": "markdown",
   "metadata": {},
   "source": [
    "# Vectorization and Supervised Model"
   ]
  },
  {
   "cell_type": "code",
   "execution_count": 10,
   "metadata": {},
   "outputs": [],
   "source": [
    "from sklearn.feature_extraction.text import TfidfVectorizer, CountVectorizer"
   ]
  },
  {
   "cell_type": "code",
   "execution_count": 11,
   "metadata": {},
   "outputs": [],
   "source": [
    "prc_steps = [\n",
    "    ('tfidf', TfidfVectorizer(min_df = 0.05, max_df = 0.95)), \n",
    "            ('combnb', ComplementNB())]\n",
    "pipeline = Pipeline(prc_steps)"
   ]
  },
  {
   "cell_type": "code",
   "execution_count": 12,
   "metadata": {},
   "outputs": [
    {
     "data": {
      "text/html": [
       "<style>#sk-6a093d53-a523-402e-99f0-dfa057e23937 {color: black;background-color: white;}#sk-6a093d53-a523-402e-99f0-dfa057e23937 pre{padding: 0;}#sk-6a093d53-a523-402e-99f0-dfa057e23937 div.sk-toggleable {background-color: white;}#sk-6a093d53-a523-402e-99f0-dfa057e23937 label.sk-toggleable__label {cursor: pointer;display: block;width: 100%;margin-bottom: 0;padding: 0.3em;box-sizing: border-box;text-align: center;}#sk-6a093d53-a523-402e-99f0-dfa057e23937 label.sk-toggleable__label-arrow:before {content: \"▸\";float: left;margin-right: 0.25em;color: #696969;}#sk-6a093d53-a523-402e-99f0-dfa057e23937 label.sk-toggleable__label-arrow:hover:before {color: black;}#sk-6a093d53-a523-402e-99f0-dfa057e23937 div.sk-estimator:hover label.sk-toggleable__label-arrow:before {color: black;}#sk-6a093d53-a523-402e-99f0-dfa057e23937 div.sk-toggleable__content {max-height: 0;max-width: 0;overflow: hidden;text-align: left;background-color: #f0f8ff;}#sk-6a093d53-a523-402e-99f0-dfa057e23937 div.sk-toggleable__content pre {margin: 0.2em;color: black;border-radius: 0.25em;background-color: #f0f8ff;}#sk-6a093d53-a523-402e-99f0-dfa057e23937 input.sk-toggleable__control:checked~div.sk-toggleable__content {max-height: 200px;max-width: 100%;overflow: auto;}#sk-6a093d53-a523-402e-99f0-dfa057e23937 input.sk-toggleable__control:checked~label.sk-toggleable__label-arrow:before {content: \"▾\";}#sk-6a093d53-a523-402e-99f0-dfa057e23937 div.sk-estimator input.sk-toggleable__control:checked~label.sk-toggleable__label {background-color: #d4ebff;}#sk-6a093d53-a523-402e-99f0-dfa057e23937 div.sk-label input.sk-toggleable__control:checked~label.sk-toggleable__label {background-color: #d4ebff;}#sk-6a093d53-a523-402e-99f0-dfa057e23937 input.sk-hidden--visually {border: 0;clip: rect(1px 1px 1px 1px);clip: rect(1px, 1px, 1px, 1px);height: 1px;margin: -1px;overflow: hidden;padding: 0;position: absolute;width: 1px;}#sk-6a093d53-a523-402e-99f0-dfa057e23937 div.sk-estimator {font-family: monospace;background-color: #f0f8ff;border: 1px dotted black;border-radius: 0.25em;box-sizing: border-box;margin-bottom: 0.5em;}#sk-6a093d53-a523-402e-99f0-dfa057e23937 div.sk-estimator:hover {background-color: #d4ebff;}#sk-6a093d53-a523-402e-99f0-dfa057e23937 div.sk-parallel-item::after {content: \"\";width: 100%;border-bottom: 1px solid gray;flex-grow: 1;}#sk-6a093d53-a523-402e-99f0-dfa057e23937 div.sk-label:hover label.sk-toggleable__label {background-color: #d4ebff;}#sk-6a093d53-a523-402e-99f0-dfa057e23937 div.sk-serial::before {content: \"\";position: absolute;border-left: 1px solid gray;box-sizing: border-box;top: 2em;bottom: 0;left: 50%;}#sk-6a093d53-a523-402e-99f0-dfa057e23937 div.sk-serial {display: flex;flex-direction: column;align-items: center;background-color: white;padding-right: 0.2em;padding-left: 0.2em;}#sk-6a093d53-a523-402e-99f0-dfa057e23937 div.sk-item {z-index: 1;}#sk-6a093d53-a523-402e-99f0-dfa057e23937 div.sk-parallel {display: flex;align-items: stretch;justify-content: center;background-color: white;}#sk-6a093d53-a523-402e-99f0-dfa057e23937 div.sk-parallel::before {content: \"\";position: absolute;border-left: 1px solid gray;box-sizing: border-box;top: 2em;bottom: 0;left: 50%;}#sk-6a093d53-a523-402e-99f0-dfa057e23937 div.sk-parallel-item {display: flex;flex-direction: column;position: relative;background-color: white;}#sk-6a093d53-a523-402e-99f0-dfa057e23937 div.sk-parallel-item:first-child::after {align-self: flex-end;width: 50%;}#sk-6a093d53-a523-402e-99f0-dfa057e23937 div.sk-parallel-item:last-child::after {align-self: flex-start;width: 50%;}#sk-6a093d53-a523-402e-99f0-dfa057e23937 div.sk-parallel-item:only-child::after {width: 0;}#sk-6a093d53-a523-402e-99f0-dfa057e23937 div.sk-dashed-wrapped {border: 1px dashed gray;margin: 0 0.4em 0.5em 0.4em;box-sizing: border-box;padding-bottom: 0.4em;background-color: white;position: relative;}#sk-6a093d53-a523-402e-99f0-dfa057e23937 div.sk-label label {font-family: monospace;font-weight: bold;background-color: white;display: inline-block;line-height: 1.2em;}#sk-6a093d53-a523-402e-99f0-dfa057e23937 div.sk-label-container {position: relative;z-index: 2;text-align: center;}#sk-6a093d53-a523-402e-99f0-dfa057e23937 div.sk-container {/* jupyter's `normalize.less` sets `[hidden] { display: none; }` but bootstrap.min.css set `[hidden] { display: none !important; }` so we also need the `!important` here to be able to override the default hidden behavior on the sphinx rendered scikit-learn.org. See: https://github.com/scikit-learn/scikit-learn/issues/21755 */display: inline-block !important;position: relative;}#sk-6a093d53-a523-402e-99f0-dfa057e23937 div.sk-text-repr-fallback {display: none;}</style><div id=\"sk-6a093d53-a523-402e-99f0-dfa057e23937\" class=\"sk-top-container\"><div class=\"sk-text-repr-fallback\"><pre>Pipeline(steps=[(&#x27;tfidf&#x27;, TfidfVectorizer(max_df=0.95, min_df=0.05)),\n",
       "                (&#x27;combnb&#x27;, ComplementNB())])</pre><b>Please rerun this cell to show the HTML repr or trust the notebook.</b></div><div class=\"sk-container\" hidden><div class=\"sk-item sk-dashed-wrapped\"><div class=\"sk-label-container\"><div class=\"sk-label sk-toggleable\"><input class=\"sk-toggleable__control sk-hidden--visually\" id=\"9216d439-3c1b-4296-b81c-b6060e9bad78\" type=\"checkbox\" ><label for=\"9216d439-3c1b-4296-b81c-b6060e9bad78\" class=\"sk-toggleable__label sk-toggleable__label-arrow\">Pipeline</label><div class=\"sk-toggleable__content\"><pre>Pipeline(steps=[(&#x27;tfidf&#x27;, TfidfVectorizer(max_df=0.95, min_df=0.05)),\n",
       "                (&#x27;combnb&#x27;, ComplementNB())])</pre></div></div></div><div class=\"sk-serial\"><div class=\"sk-item\"><div class=\"sk-estimator sk-toggleable\"><input class=\"sk-toggleable__control sk-hidden--visually\" id=\"2a4e0f1d-0b39-4b84-8995-2a00c5329668\" type=\"checkbox\" ><label for=\"2a4e0f1d-0b39-4b84-8995-2a00c5329668\" class=\"sk-toggleable__label sk-toggleable__label-arrow\">TfidfVectorizer</label><div class=\"sk-toggleable__content\"><pre>TfidfVectorizer(max_df=0.95, min_df=0.05)</pre></div></div></div><div class=\"sk-item\"><div class=\"sk-estimator sk-toggleable\"><input class=\"sk-toggleable__control sk-hidden--visually\" id=\"098fda11-c490-4b01-9636-87f7d42659de\" type=\"checkbox\" ><label for=\"098fda11-c490-4b01-9636-87f7d42659de\" class=\"sk-toggleable__label sk-toggleable__label-arrow\">ComplementNB</label><div class=\"sk-toggleable__content\"><pre>ComplementNB()</pre></div></div></div></div></div></div></div>"
      ],
      "text/plain": [
       "Pipeline(steps=[('tfidf', TfidfVectorizer(max_df=0.95, min_df=0.05)),\n",
       "                ('combnb', ComplementNB())])"
      ]
     },
     "execution_count": 12,
     "metadata": {},
     "output_type": "execute_result"
    }
   ],
   "source": [
    "pipeline"
   ]
  },
  {
   "cell_type": "code",
   "execution_count": 13,
   "metadata": {},
   "outputs": [
    {
     "data": {
      "text/html": [
       "<style>#sk-8f8b0cb6-4f82-4066-996e-ff4fd807fe8c {color: black;background-color: white;}#sk-8f8b0cb6-4f82-4066-996e-ff4fd807fe8c pre{padding: 0;}#sk-8f8b0cb6-4f82-4066-996e-ff4fd807fe8c div.sk-toggleable {background-color: white;}#sk-8f8b0cb6-4f82-4066-996e-ff4fd807fe8c label.sk-toggleable__label {cursor: pointer;display: block;width: 100%;margin-bottom: 0;padding: 0.3em;box-sizing: border-box;text-align: center;}#sk-8f8b0cb6-4f82-4066-996e-ff4fd807fe8c label.sk-toggleable__label-arrow:before {content: \"▸\";float: left;margin-right: 0.25em;color: #696969;}#sk-8f8b0cb6-4f82-4066-996e-ff4fd807fe8c label.sk-toggleable__label-arrow:hover:before {color: black;}#sk-8f8b0cb6-4f82-4066-996e-ff4fd807fe8c div.sk-estimator:hover label.sk-toggleable__label-arrow:before {color: black;}#sk-8f8b0cb6-4f82-4066-996e-ff4fd807fe8c div.sk-toggleable__content {max-height: 0;max-width: 0;overflow: hidden;text-align: left;background-color: #f0f8ff;}#sk-8f8b0cb6-4f82-4066-996e-ff4fd807fe8c div.sk-toggleable__content pre {margin: 0.2em;color: black;border-radius: 0.25em;background-color: #f0f8ff;}#sk-8f8b0cb6-4f82-4066-996e-ff4fd807fe8c input.sk-toggleable__control:checked~div.sk-toggleable__content {max-height: 200px;max-width: 100%;overflow: auto;}#sk-8f8b0cb6-4f82-4066-996e-ff4fd807fe8c input.sk-toggleable__control:checked~label.sk-toggleable__label-arrow:before {content: \"▾\";}#sk-8f8b0cb6-4f82-4066-996e-ff4fd807fe8c div.sk-estimator input.sk-toggleable__control:checked~label.sk-toggleable__label {background-color: #d4ebff;}#sk-8f8b0cb6-4f82-4066-996e-ff4fd807fe8c div.sk-label input.sk-toggleable__control:checked~label.sk-toggleable__label {background-color: #d4ebff;}#sk-8f8b0cb6-4f82-4066-996e-ff4fd807fe8c input.sk-hidden--visually {border: 0;clip: rect(1px 1px 1px 1px);clip: rect(1px, 1px, 1px, 1px);height: 1px;margin: -1px;overflow: hidden;padding: 0;position: absolute;width: 1px;}#sk-8f8b0cb6-4f82-4066-996e-ff4fd807fe8c div.sk-estimator {font-family: monospace;background-color: #f0f8ff;border: 1px dotted black;border-radius: 0.25em;box-sizing: border-box;margin-bottom: 0.5em;}#sk-8f8b0cb6-4f82-4066-996e-ff4fd807fe8c div.sk-estimator:hover {background-color: #d4ebff;}#sk-8f8b0cb6-4f82-4066-996e-ff4fd807fe8c div.sk-parallel-item::after {content: \"\";width: 100%;border-bottom: 1px solid gray;flex-grow: 1;}#sk-8f8b0cb6-4f82-4066-996e-ff4fd807fe8c div.sk-label:hover label.sk-toggleable__label {background-color: #d4ebff;}#sk-8f8b0cb6-4f82-4066-996e-ff4fd807fe8c div.sk-serial::before {content: \"\";position: absolute;border-left: 1px solid gray;box-sizing: border-box;top: 2em;bottom: 0;left: 50%;}#sk-8f8b0cb6-4f82-4066-996e-ff4fd807fe8c div.sk-serial {display: flex;flex-direction: column;align-items: center;background-color: white;padding-right: 0.2em;padding-left: 0.2em;}#sk-8f8b0cb6-4f82-4066-996e-ff4fd807fe8c div.sk-item {z-index: 1;}#sk-8f8b0cb6-4f82-4066-996e-ff4fd807fe8c div.sk-parallel {display: flex;align-items: stretch;justify-content: center;background-color: white;}#sk-8f8b0cb6-4f82-4066-996e-ff4fd807fe8c div.sk-parallel::before {content: \"\";position: absolute;border-left: 1px solid gray;box-sizing: border-box;top: 2em;bottom: 0;left: 50%;}#sk-8f8b0cb6-4f82-4066-996e-ff4fd807fe8c div.sk-parallel-item {display: flex;flex-direction: column;position: relative;background-color: white;}#sk-8f8b0cb6-4f82-4066-996e-ff4fd807fe8c div.sk-parallel-item:first-child::after {align-self: flex-end;width: 50%;}#sk-8f8b0cb6-4f82-4066-996e-ff4fd807fe8c div.sk-parallel-item:last-child::after {align-self: flex-start;width: 50%;}#sk-8f8b0cb6-4f82-4066-996e-ff4fd807fe8c div.sk-parallel-item:only-child::after {width: 0;}#sk-8f8b0cb6-4f82-4066-996e-ff4fd807fe8c div.sk-dashed-wrapped {border: 1px dashed gray;margin: 0 0.4em 0.5em 0.4em;box-sizing: border-box;padding-bottom: 0.4em;background-color: white;position: relative;}#sk-8f8b0cb6-4f82-4066-996e-ff4fd807fe8c div.sk-label label {font-family: monospace;font-weight: bold;background-color: white;display: inline-block;line-height: 1.2em;}#sk-8f8b0cb6-4f82-4066-996e-ff4fd807fe8c div.sk-label-container {position: relative;z-index: 2;text-align: center;}#sk-8f8b0cb6-4f82-4066-996e-ff4fd807fe8c div.sk-container {/* jupyter's `normalize.less` sets `[hidden] { display: none; }` but bootstrap.min.css set `[hidden] { display: none !important; }` so we also need the `!important` here to be able to override the default hidden behavior on the sphinx rendered scikit-learn.org. See: https://github.com/scikit-learn/scikit-learn/issues/21755 */display: inline-block !important;position: relative;}#sk-8f8b0cb6-4f82-4066-996e-ff4fd807fe8c div.sk-text-repr-fallback {display: none;}</style><div id=\"sk-8f8b0cb6-4f82-4066-996e-ff4fd807fe8c\" class=\"sk-top-container\"><div class=\"sk-text-repr-fallback\"><pre>Pipeline(steps=[(&#x27;tfidf&#x27;, TfidfVectorizer(max_df=0.95, min_df=0.05)),\n",
       "                (&#x27;combnb&#x27;, ComplementNB())])</pre><b>Please rerun this cell to show the HTML repr or trust the notebook.</b></div><div class=\"sk-container\" hidden><div class=\"sk-item sk-dashed-wrapped\"><div class=\"sk-label-container\"><div class=\"sk-label sk-toggleable\"><input class=\"sk-toggleable__control sk-hidden--visually\" id=\"1a9bd34e-bc08-4a72-82c9-ee771cedd908\" type=\"checkbox\" ><label for=\"1a9bd34e-bc08-4a72-82c9-ee771cedd908\" class=\"sk-toggleable__label sk-toggleable__label-arrow\">Pipeline</label><div class=\"sk-toggleable__content\"><pre>Pipeline(steps=[(&#x27;tfidf&#x27;, TfidfVectorizer(max_df=0.95, min_df=0.05)),\n",
       "                (&#x27;combnb&#x27;, ComplementNB())])</pre></div></div></div><div class=\"sk-serial\"><div class=\"sk-item\"><div class=\"sk-estimator sk-toggleable\"><input class=\"sk-toggleable__control sk-hidden--visually\" id=\"8a273f0b-b02a-4641-87c3-0c7c63d71971\" type=\"checkbox\" ><label for=\"8a273f0b-b02a-4641-87c3-0c7c63d71971\" class=\"sk-toggleable__label sk-toggleable__label-arrow\">TfidfVectorizer</label><div class=\"sk-toggleable__content\"><pre>TfidfVectorizer(max_df=0.95, min_df=0.05)</pre></div></div></div><div class=\"sk-item\"><div class=\"sk-estimator sk-toggleable\"><input class=\"sk-toggleable__control sk-hidden--visually\" id=\"16b4e162-6765-402b-ab9b-0ff199e85c47\" type=\"checkbox\" ><label for=\"16b4e162-6765-402b-ab9b-0ff199e85c47\" class=\"sk-toggleable__label sk-toggleable__label-arrow\">ComplementNB</label><div class=\"sk-toggleable__content\"><pre>ComplementNB()</pre></div></div></div></div></div></div></div>"
      ],
      "text/plain": [
       "Pipeline(steps=[('tfidf', TfidfVectorizer(max_df=0.95, min_df=0.05)),\n",
       "                ('combnb', ComplementNB())])"
      ]
     },
     "execution_count": 13,
     "metadata": {},
     "output_type": "execute_result"
    }
   ],
   "source": [
    "pipeline.fit(transformed_train, y_train)"
   ]
  },
  {
   "cell_type": "code",
   "execution_count": 14,
   "metadata": {},
   "outputs": [],
   "source": [
    "# automatically applies transforms and predicts on test\n",
    "y_pred = pipeline.predict(transformed_test)"
   ]
  },
  {
   "cell_type": "code",
   "execution_count": 15,
   "metadata": {},
   "outputs": [
    {
     "name": "stdout",
     "output_type": "stream",
     "text": [
      "              precision    recall  f1-score   support\n",
      "\n",
      "           0       0.60      0.80      0.69      1621\n",
      "           1       0.92      0.81      0.86      4527\n",
      "\n",
      "    accuracy                           0.81      6148\n",
      "   macro avg       0.76      0.81      0.77      6148\n",
      "weighted avg       0.84      0.81      0.82      6148\n",
      "\n"
     ]
    }
   ],
   "source": [
    "print(classification_report(y_test, y_pred))"
   ]
  },
  {
   "cell_type": "code",
   "execution_count": 16,
   "metadata": {},
   "outputs": [
    {
     "data": {
      "text/plain": [
       "0.8052740517618124"
      ]
     },
     "execution_count": 16,
     "metadata": {},
     "output_type": "execute_result"
    }
   ],
   "source": [
    "roc_auc_score(y_test, y_pred)"
   ]
  },
  {
   "cell_type": "code",
   "execution_count": 17,
   "metadata": {},
   "outputs": [
    {
     "name": "stderr",
     "output_type": "stream",
     "text": [
      "/opt/homebrew/Caskroom/miniforge/base/envs/mactenny/lib/python3.8/site-packages/sklearn/utils/deprecation.py:87: FutureWarning: Function plot_roc_curve is deprecated; Function :func:`plot_roc_curve` is deprecated in 1.0 and will be removed in 1.2. Use one of the class methods: :meth:`sklearn.metric.RocCurveDisplay.from_predictions` or :meth:`sklearn.metric.RocCurveDisplay.from_estimator`.\n",
      "  warnings.warn(msg, category=FutureWarning)\n"
     ]
    },
    {
     "data": {
      "text/plain": [
       "<sklearn.metrics._plot.roc_curve.RocCurveDisplay at 0x2828f1460>"
      ]
     },
     "execution_count": 17,
     "metadata": {},
     "output_type": "execute_result"
    },
    {
     "data": {
      "image/png": "[encoded data removed]",
      "text/plain": [
       "<Figure size 640x480 with 1 Axes>"
      ]
     },
     "metadata": {},
     "output_type": "display_data"
    }
   ],
   "source": [
    "plot_roc_curve(pipeline, transformed_test, y_test)"
   ]
  },
  {
   "cell_type": "code",
   "execution_count": 18,
   "metadata": {
    "scrolled": false
   },
   "outputs": [
    {
     "name": "stderr",
     "output_type": "stream",
     "text": [
      "/opt/homebrew/Caskroom/miniforge/base/envs/mactenny/lib/python3.8/site-packages/sklearn/utils/deprecation.py:87: FutureWarning: Function plot_confusion_matrix is deprecated; Function `plot_confusion_matrix` is deprecated in 1.0 and will be removed in 1.2. Use one of the class methods: ConfusionMatrixDisplay.from_predictions or ConfusionMatrixDisplay.from_estimator.\n",
      "  warnings.warn(msg, category=FutureWarning)\n"
     ]
    },
    {
     "data": {
      "text/plain": [
       "<sklearn.metrics._plot.confusion_matrix.ConfusionMatrixDisplay at 0x283dab100>"
      ]
     },
     "execution_count": 18,
     "metadata": {},
     "output_type": "execute_result"
    },
    {
     "data": {
      "image/png": "[encoded data removed]",
      "text/plain": [
       "<Figure size 640x480 with 2 Axes>"
      ]
     },
     "metadata": {},
     "output_type": "display_data"
    }
   ],
   "source": [
    "plot_confusion_matrix(pipeline, transformed_test, y_test)"
   ]
  },
  {
   "cell_type": "code",
   "execution_count": 19,
   "metadata": {},
   "outputs": [
    {
     "data": {
      "text/html": [
       "<style>#sk-a5179637-894d-47a2-9b78-f1895b0fbce1 {color: black;background-color: white;}#sk-a5179637-894d-47a2-9b78-f1895b0fbce1 pre{padding: 0;}#sk-a5179637-894d-47a2-9b78-f1895b0fbce1 div.sk-toggleable {background-color: white;}#sk-a5179637-894d-47a2-9b78-f1895b0fbce1 label.sk-toggleable__label {cursor: pointer;display: block;width: 100%;margin-bottom: 0;padding: 0.3em;box-sizing: border-box;text-align: center;}#sk-a5179637-894d-47a2-9b78-f1895b0fbce1 label.sk-toggleable__label-arrow:before {content: \"▸\";float: left;margin-right: 0.25em;color: #696969;}#sk-a5179637-894d-47a2-9b78-f1895b0fbce1 label.sk-toggleable__label-arrow:hover:before {color: black;}#sk-a5179637-894d-47a2-9b78-f1895b0fbce1 div.sk-estimator:hover label.sk-toggleable__label-arrow:before {color: black;}#sk-a5179637-894d-47a2-9b78-f1895b0fbce1 div.sk-toggleable__content {max-height: 0;max-width: 0;overflow: hidden;text-align: left;background-color: #f0f8ff;}#sk-a5179637-894d-47a2-9b78-f1895b0fbce1 div.sk-toggleable__content pre {margin: 0.2em;color: black;border-radius: 0.25em;background-color: #f0f8ff;}#sk-a5179637-894d-47a2-9b78-f1895b0fbce1 input.sk-toggleable__control:checked~div.sk-toggleable__content {max-height: 200px;max-width: 100%;overflow: auto;}#sk-a5179637-894d-47a2-9b78-f1895b0fbce1 input.sk-toggleable__control:checked~label.sk-toggleable__label-arrow:before {content: \"▾\";}#sk-a5179637-894d-47a2-9b78-f1895b0fbce1 div.sk-estimator input.sk-toggleable__control:checked~label.sk-toggleable__label {background-color: #d4ebff;}#sk-a5179637-894d-47a2-9b78-f1895b0fbce1 div.sk-label input.sk-toggleable__control:checked~label.sk-toggleable__label {background-color: #d4ebff;}#sk-a5179637-894d-47a2-9b78-f1895b0fbce1 input.sk-hidden--visually {border: 0;clip: rect(1px 1px 1px 1px);clip: rect(1px, 1px, 1px, 1px);height: 1px;margin: -1px;overflow: hidden;padding: 0;position: absolute;width: 1px;}#sk-a5179637-894d-47a2-9b78-f1895b0fbce1 div.sk-estimator {font-family: monospace;background-color: #f0f8ff;border: 1px dotted black;border-radius: 0.25em;box-sizing: border-box;margin-bottom: 0.5em;}#sk-a5179637-894d-47a2-9b78-f1895b0fbce1 div.sk-estimator:hover {background-color: #d4ebff;}#sk-a5179637-894d-47a2-9b78-f1895b0fbce1 div.sk-parallel-item::after {content: \"\";width: 100%;border-bottom: 1px solid gray;flex-grow: 1;}#sk-a5179637-894d-47a2-9b78-f1895b0fbce1 div.sk-label:hover label.sk-toggleable__label {background-color: #d4ebff;}#sk-a5179637-894d-47a2-9b78-f1895b0fbce1 div.sk-serial::before {content: \"\";position: absolute;border-left: 1px solid gray;box-sizing: border-box;top: 2em;bottom: 0;left: 50%;}#sk-a5179637-894d-47a2-9b78-f1895b0fbce1 div.sk-serial {display: flex;flex-direction: column;align-items: center;background-color: white;padding-right: 0.2em;padding-left: 0.2em;}#sk-a5179637-894d-47a2-9b78-f1895b0fbce1 div.sk-item {z-index: 1;}#sk-a5179637-894d-47a2-9b78-f1895b0fbce1 div.sk-parallel {display: flex;align-items: stretch;justify-content: center;background-color: white;}#sk-a5179637-894d-47a2-9b78-f1895b0fbce1 div.sk-parallel::before {content: \"\";position: absolute;border-left: 1px solid gray;box-sizing: border-box;top: 2em;bottom: 0;left: 50%;}#sk-a5179637-894d-47a2-9b78-f1895b0fbce1 div.sk-parallel-item {display: flex;flex-direction: column;position: relative;background-color: white;}#sk-a5179637-894d-47a2-9b78-f1895b0fbce1 div.sk-parallel-item:first-child::after {align-self: flex-end;width: 50%;}#sk-a5179637-894d-47a2-9b78-f1895b0fbce1 div.sk-parallel-item:last-child::after {align-self: flex-start;width: 50%;}#sk-a5179637-894d-47a2-9b78-f1895b0fbce1 div.sk-parallel-item:only-child::after {width: 0;}#sk-a5179637-894d-47a2-9b78-f1895b0fbce1 div.sk-dashed-wrapped {border: 1px dashed gray;margin: 0 0.4em 0.5em 0.4em;box-sizing: border-box;padding-bottom: 0.4em;background-color: white;position: relative;}#sk-a5179637-894d-47a2-9b78-f1895b0fbce1 div.sk-label label {font-family: monospace;font-weight: bold;background-color: white;display: inline-block;line-height: 1.2em;}#sk-a5179637-894d-47a2-9b78-f1895b0fbce1 div.sk-label-container {position: relative;z-index: 2;text-align: center;}#sk-a5179637-894d-47a2-9b78-f1895b0fbce1 div.sk-container {/* jupyter's `normalize.less` sets `[hidden] { display: none; }` but bootstrap.min.css set `[hidden] { display: none !important; }` so we also need the `!important` here to be able to override the default hidden behavior on the sphinx rendered scikit-learn.org. See: https://github.com/scikit-learn/scikit-learn/issues/21755 */display: inline-block !important;position: relative;}#sk-a5179637-894d-47a2-9b78-f1895b0fbce1 div.sk-text-repr-fallback {display: none;}</style><div id=\"sk-a5179637-894d-47a2-9b78-f1895b0fbce1\" class=\"sk-top-container\"><div class=\"sk-text-repr-fallback\"><pre>Pipeline(steps=[(&#x27;tfidf&#x27;, TfidfVectorizer(max_df=0.95, min_df=0.05)),\n",
       "                (&#x27;combnb&#x27;, ComplementNB())])</pre><b>Please rerun this cell to show the HTML repr or trust the notebook.</b></div><div class=\"sk-container\" hidden><div class=\"sk-item sk-dashed-wrapped\"><div class=\"sk-label-container\"><div class=\"sk-label sk-toggleable\"><input class=\"sk-toggleable__control sk-hidden--visually\" id=\"8e804cbc-7d9b-4178-8e08-1a206d64511d\" type=\"checkbox\" ><label for=\"8e804cbc-7d9b-4178-8e08-1a206d64511d\" class=\"sk-toggleable__label sk-toggleable__label-arrow\">Pipeline</label><div class=\"sk-toggleable__content\"><pre>Pipeline(steps=[(&#x27;tfidf&#x27;, TfidfVectorizer(max_df=0.95, min_df=0.05)),\n",
       "                (&#x27;combnb&#x27;, ComplementNB())])</pre></div></div></div><div class=\"sk-serial\"><div class=\"sk-item\"><div class=\"sk-estimator sk-toggleable\"><input class=\"sk-toggleable__control sk-hidden--visually\" id=\"81874ba6-4bd0-4b94-a53b-627c36c955f0\" type=\"checkbox\" ><label for=\"81874ba6-4bd0-4b94-a53b-627c36c955f0\" class=\"sk-toggleable__label sk-toggleable__label-arrow\">TfidfVectorizer</label><div class=\"sk-toggleable__content\"><pre>TfidfVectorizer(max_df=0.95, min_df=0.05)</pre></div></div></div><div class=\"sk-item\"><div class=\"sk-estimator sk-toggleable\"><input class=\"sk-toggleable__control sk-hidden--visually\" id=\"e3db1fe4-7c25-4da2-ac49-c4d8f3bddee3\" type=\"checkbox\" ><label for=\"e3db1fe4-7c25-4da2-ac49-c4d8f3bddee3\" class=\"sk-toggleable__label sk-toggleable__label-arrow\">ComplementNB</label><div class=\"sk-toggleable__content\"><pre>ComplementNB()</pre></div></div></div></div></div></div></div>"
      ],
      "text/plain": [
       "Pipeline(steps=[('tfidf', TfidfVectorizer(max_df=0.95, min_df=0.05)),\n",
       "                ('combnb', ComplementNB())])"
      ]
     },
     "execution_count": 19,
     "metadata": {},
     "output_type": "execute_result"
    }
   ],
   "source": [
    "pipeline"
   ]
  },
  {
   "cell_type": "markdown",
   "metadata": {},
   "source": [
    "# GridSearch for Best Model"
   ]
  },
  {
   "cell_type": "code",
   "execution_count": 20,
   "metadata": {},
   "outputs": [],
   "source": [
    "parameters = { \n",
    "    'tfidf__norm': ('l1', 'l2'),  \n",
    "    'combnb__alpha': (1, 0.1, 0.01, 0.001, 0.0001, 0.00001)  \n",
    "    }  "
   ]
  },
  {
   "cell_type": "code",
   "execution_count": 21,
   "metadata": {},
   "outputs": [
    {
     "data": {
      "text/html": [
       "<style>#sk-2ca5a138-cbcd-47cb-b213-5f846b38f2ba {color: black;background-color: white;}#sk-2ca5a138-cbcd-47cb-b213-5f846b38f2ba pre{padding: 0;}#sk-2ca5a138-cbcd-47cb-b213-5f846b38f2ba div.sk-toggleable {background-color: white;}#sk-2ca5a138-cbcd-47cb-b213-5f846b38f2ba label.sk-toggleable__label {cursor: pointer;display: block;width: 100%;margin-bottom: 0;padding: 0.3em;box-sizing: border-box;text-align: center;}#sk-2ca5a138-cbcd-47cb-b213-5f846b38f2ba label.sk-toggleable__label-arrow:before {content: \"▸\";float: left;margin-right: 0.25em;color: #696969;}#sk-2ca5a138-cbcd-47cb-b213-5f846b38f2ba label.sk-toggleable__label-arrow:hover:before {color: black;}#sk-2ca5a138-cbcd-47cb-b213-5f846b38f2ba div.sk-estimator:hover label.sk-toggleable__label-arrow:before {color: black;}#sk-2ca5a138-cbcd-47cb-b213-5f846b38f2ba div.sk-toggleable__content {max-height: 0;max-width: 0;overflow: hidden;text-align: left;background-color: #f0f8ff;}#sk-2ca5a138-cbcd-47cb-b213-5f846b38f2ba div.sk-toggleable__content pre {margin: 0.2em;color: black;border-radius: 0.25em;background-color: #f0f8ff;}#sk-2ca5a138-cbcd-47cb-b213-5f846b38f2ba input.sk-toggleable__control:checked~div.sk-toggleable__content {max-height: 200px;max-width: 100%;overflow: auto;}#sk-2ca5a138-cbcd-47cb-b213-5f846b38f2ba input.sk-toggleable__control:checked~label.sk-toggleable__label-arrow:before {content: \"▾\";}#sk-2ca5a138-cbcd-47cb-b213-5f846b38f2ba div.sk-estimator input.sk-toggleable__control:checked~label.sk-toggleable__label {background-color: #d4ebff;}#sk-2ca5a138-cbcd-47cb-b213-5f846b38f2ba div.sk-label input.sk-toggleable__control:checked~label.sk-toggleable__label {background-color: #d4ebff;}#sk-2ca5a138-cbcd-47cb-b213-5f846b38f2ba input.sk-hidden--visually {border: 0;clip: rect(1px 1px 1px 1px);clip: rect(1px, 1px, 1px, 1px);height: 1px;margin: -1px;overflow: hidden;padding: 0;position: absolute;width: 1px;}#sk-2ca5a138-cbcd-47cb-b213-5f846b38f2ba div.sk-estimator {font-family: monospace;background-color: #f0f8ff;border: 1px dotted black;border-radius: 0.25em;box-sizing: border-box;margin-bottom: 0.5em;}#sk-2ca5a138-cbcd-47cb-b213-5f846b38f2ba div.sk-estimator:hover {background-color: #d4ebff;}#sk-2ca5a138-cbcd-47cb-b213-5f846b38f2ba div.sk-parallel-item::after {content: \"\";width: 100%;border-bottom: 1px solid gray;flex-grow: 1;}#sk-2ca5a138-cbcd-47cb-b213-5f846b38f2ba div.sk-label:hover label.sk-toggleable__label {background-color: #d4ebff;}#sk-2ca5a138-cbcd-47cb-b213-5f846b38f2ba div.sk-serial::before {content: \"\";position: absolute;border-left: 1px solid gray;box-sizing: border-box;top: 2em;bottom: 0;left: 50%;}#sk-2ca5a138-cbcd-47cb-b213-5f846b38f2ba div.sk-serial {display: flex;flex-direction: column;align-items: center;background-color: white;padding-right: 0.2em;padding-left: 0.2em;}#sk-2ca5a138-cbcd-47cb-b213-5f846b38f2ba div.sk-item {z-index: 1;}#sk-2ca5a138-cbcd-47cb-b213-5f846b38f2ba div.sk-parallel {display: flex;align-items: stretch;justify-content: center;background-color: white;}#sk-2ca5a138-cbcd-47cb-b213-5f846b38f2ba div.sk-parallel::before {content: \"\";position: absolute;border-left: 1px solid gray;box-sizing: border-box;top: 2em;bottom: 0;left: 50%;}#sk-2ca5a138-cbcd-47cb-b213-5f846b38f2ba div.sk-parallel-item {display: flex;flex-direction: column;position: relative;background-color: white;}#sk-2ca5a138-cbcd-47cb-b213-5f846b38f2ba div.sk-parallel-item:first-child::after {align-self: flex-end;width: 50%;}#sk-2ca5a138-cbcd-47cb-b213-5f846b38f2ba div.sk-parallel-item:last-child::after {align-self: flex-start;width: 50%;}#sk-2ca5a138-cbcd-47cb-b213-5f846b38f2ba div.sk-parallel-item:only-child::after {width: 0;}#sk-2ca5a138-cbcd-47cb-b213-5f846b38f2ba div.sk-dashed-wrapped {border: 1px dashed gray;margin: 0 0.4em 0.5em 0.4em;box-sizing: border-box;padding-bottom: 0.4em;background-color: white;position: relative;}#sk-2ca5a138-cbcd-47cb-b213-5f846b38f2ba div.sk-label label {font-family: monospace;font-weight: bold;background-color: white;display: inline-block;line-height: 1.2em;}#sk-2ca5a138-cbcd-47cb-b213-5f846b38f2ba div.sk-label-container {position: relative;z-index: 2;text-align: center;}#sk-2ca5a138-cbcd-47cb-b213-5f846b38f2ba div.sk-container {/* jupyter's `normalize.less` sets `[hidden] { display: none; }` but bootstrap.min.css set `[hidden] { display: none !important; }` so we also need the `!important` here to be able to override the default hidden behavior on the sphinx rendered scikit-learn.org. See: https://github.com/scikit-learn/scikit-learn/issues/21755 */display: inline-block !important;position: relative;}#sk-2ca5a138-cbcd-47cb-b213-5f846b38f2ba div.sk-text-repr-fallback {display: none;}</style><div id=\"sk-2ca5a138-cbcd-47cb-b213-5f846b38f2ba\" class=\"sk-top-container\"><div class=\"sk-text-repr-fallback\"><pre>GridSearchCV(estimator=Pipeline(steps=[(&#x27;tfidf&#x27;,\n",
       "                                        TfidfVectorizer(max_df=0.95,\n",
       "                                                        min_df=0.05)),\n",
       "                                       (&#x27;combnb&#x27;, ComplementNB())]),\n",
       "             param_grid={&#x27;combnb__alpha&#x27;: (1, 0.1, 0.01, 0.001, 0.0001, 1e-05),\n",
       "                         &#x27;tfidf__norm&#x27;: (&#x27;l1&#x27;, &#x27;l2&#x27;)})</pre><b>Please rerun this cell to show the HTML repr or trust the notebook.</b></div><div class=\"sk-container\" hidden><div class=\"sk-item sk-dashed-wrapped\"><div class=\"sk-label-container\"><div class=\"sk-label sk-toggleable\"><input class=\"sk-toggleable__control sk-hidden--visually\" id=\"58746f09-4eea-4e6e-bf73-0169aa4d2c6d\" type=\"checkbox\" ><label for=\"58746f09-4eea-4e6e-bf73-0169aa4d2c6d\" class=\"sk-toggleable__label sk-toggleable__label-arrow\">GridSearchCV</label><div class=\"sk-toggleable__content\"><pre>GridSearchCV(estimator=Pipeline(steps=[(&#x27;tfidf&#x27;,\n",
       "                                        TfidfVectorizer(max_df=0.95,\n",
       "                                                        min_df=0.05)),\n",
       "                                       (&#x27;combnb&#x27;, ComplementNB())]),\n",
       "             param_grid={&#x27;combnb__alpha&#x27;: (1, 0.1, 0.01, 0.001, 0.0001, 1e-05),\n",
       "                         &#x27;tfidf__norm&#x27;: (&#x27;l1&#x27;, &#x27;l2&#x27;)})</pre></div></div></div><div class=\"sk-parallel\"><div class=\"sk-parallel-item\"><div class=\"sk-item\"><div class=\"sk-serial\"><div class=\"sk-item\"><div class=\"sk-serial\"><div class=\"sk-item\"><div class=\"sk-estimator sk-toggleable\"><input class=\"sk-toggleable__control sk-hidden--visually\" id=\"5d67d8e5-8e40-4da4-bf2e-14929107cc99\" type=\"checkbox\" ><label for=\"5d67d8e5-8e40-4da4-bf2e-14929107cc99\" class=\"sk-toggleable__label sk-toggleable__label-arrow\">TfidfVectorizer</label><div class=\"sk-toggleable__content\"><pre>TfidfVectorizer(max_df=0.95, min_df=0.05)</pre></div></div></div><div class=\"sk-item\"><div class=\"sk-estimator sk-toggleable\"><input class=\"sk-toggleable__control sk-hidden--visually\" id=\"6e66f804-0162-4faf-8e3a-a3ec2f5413da\" type=\"checkbox\" ><label for=\"6e66f804-0162-4faf-8e3a-a3ec2f5413da\" class=\"sk-toggleable__label sk-toggleable__label-arrow\">ComplementNB</label><div class=\"sk-toggleable__content\"><pre>ComplementNB()</pre></div></div></div></div></div></div></div></div></div></div></div></div>"
      ],
      "text/plain": [
       "GridSearchCV(estimator=Pipeline(steps=[('tfidf',\n",
       "                                        TfidfVectorizer(max_df=0.95,\n",
       "                                                        min_df=0.05)),\n",
       "                                       ('combnb', ComplementNB())]),\n",
       "             param_grid={'combnb__alpha': (1, 0.1, 0.01, 0.001, 0.0001, 1e-05),\n",
       "                         'tfidf__norm': ('l1', 'l2')})"
      ]
     },
     "execution_count": 21,
     "metadata": {},
     "output_type": "execute_result"
    }
   ],
   "source": [
    "from sklearn.model_selection import GridSearchCV\n",
    "gs_pipe = GridSearchCV(estimator=pipeline,\n",
    "                      param_grid=parameters)\n",
    "gs_pipe"
   ]
  },
  {
   "cell_type": "code",
   "execution_count": 22,
   "metadata": {},
   "outputs": [
    {
     "data": {
      "text/html": [
       "<style>#sk-a529d7dc-82ad-4f3b-82d3-8d840cbc9784 {color: black;background-color: white;}#sk-a529d7dc-82ad-4f3b-82d3-8d840cbc9784 pre{padding: 0;}#sk-a529d7dc-82ad-4f3b-82d3-8d840cbc9784 div.sk-toggleable {background-color: white;}#sk-a529d7dc-82ad-4f3b-82d3-8d840cbc9784 label.sk-toggleable__label {cursor: pointer;display: block;width: 100%;margin-bottom: 0;padding: 0.3em;box-sizing: border-box;text-align: center;}#sk-a529d7dc-82ad-4f3b-82d3-8d840cbc9784 label.sk-toggleable__label-arrow:before {content: \"▸\";float: left;margin-right: 0.25em;color: #696969;}#sk-a529d7dc-82ad-4f3b-82d3-8d840cbc9784 label.sk-toggleable__label-arrow:hover:before {color: black;}#sk-a529d7dc-82ad-4f3b-82d3-8d840cbc9784 div.sk-estimator:hover label.sk-toggleable__label-arrow:before {color: black;}#sk-a529d7dc-82ad-4f3b-82d3-8d840cbc9784 div.sk-toggleable__content {max-height: 0;max-width: 0;overflow: hidden;text-align: left;background-color: #f0f8ff;}#sk-a529d7dc-82ad-4f3b-82d3-8d840cbc9784 div.sk-toggleable__content pre {margin: 0.2em;color: black;border-radius: 0.25em;background-color: #f0f8ff;}#sk-a529d7dc-82ad-4f3b-82d3-8d840cbc9784 input.sk-toggleable__control:checked~div.sk-toggleable__content {max-height: 200px;max-width: 100%;overflow: auto;}#sk-a529d7dc-82ad-4f3b-82d3-8d840cbc9784 input.sk-toggleable__control:checked~label.sk-toggleable__label-arrow:before {content: \"▾\";}#sk-a529d7dc-82ad-4f3b-82d3-8d840cbc9784 div.sk-estimator input.sk-toggleable__control:checked~label.sk-toggleable__label {background-color: #d4ebff;}#sk-a529d7dc-82ad-4f3b-82d3-8d840cbc9784 div.sk-label input.sk-toggleable__control:checked~label.sk-toggleable__label {background-color: #d4ebff;}#sk-a529d7dc-82ad-4f3b-82d3-8d840cbc9784 input.sk-hidden--visually {border: 0;clip: rect(1px 1px 1px 1px);clip: rect(1px, 1px, 1px, 1px);height: 1px;margin: -1px;overflow: hidden;padding: 0;position: absolute;width: 1px;}#sk-a529d7dc-82ad-4f3b-82d3-8d840cbc9784 div.sk-estimator {font-family: monospace;background-color: #f0f8ff;border: 1px dotted black;border-radius: 0.25em;box-sizing: border-box;margin-bottom: 0.5em;}#sk-a529d7dc-82ad-4f3b-82d3-8d840cbc9784 div.sk-estimator:hover {background-color: #d4ebff;}#sk-a529d7dc-82ad-4f3b-82d3-8d840cbc9784 div.sk-parallel-item::after {content: \"\";width: 100%;border-bottom: 1px solid gray;flex-grow: 1;}#sk-a529d7dc-82ad-4f3b-82d3-8d840cbc9784 div.sk-label:hover label.sk-toggleable__label {background-color: #d4ebff;}#sk-a529d7dc-82ad-4f3b-82d3-8d840cbc9784 div.sk-serial::before {content: \"\";position: absolute;border-left: 1px solid gray;box-sizing: border-box;top: 2em;bottom: 0;left: 50%;}#sk-a529d7dc-82ad-4f3b-82d3-8d840cbc9784 div.sk-serial {display: flex;flex-direction: column;align-items: center;background-color: white;padding-right: 0.2em;padding-left: 0.2em;}#sk-a529d7dc-82ad-4f3b-82d3-8d840cbc9784 div.sk-item {z-index: 1;}#sk-a529d7dc-82ad-4f3b-82d3-8d840cbc9784 div.sk-parallel {display: flex;align-items: stretch;justify-content: center;background-color: white;}#sk-a529d7dc-82ad-4f3b-82d3-8d840cbc9784 div.sk-parallel::before {content: \"\";position: absolute;border-left: 1px solid gray;box-sizing: border-box;top: 2em;bottom: 0;left: 50%;}#sk-a529d7dc-82ad-4f3b-82d3-8d840cbc9784 div.sk-parallel-item {display: flex;flex-direction: column;position: relative;background-color: white;}#sk-a529d7dc-82ad-4f3b-82d3-8d840cbc9784 div.sk-parallel-item:first-child::after {align-self: flex-end;width: 50%;}#sk-a529d7dc-82ad-4f3b-82d3-8d840cbc9784 div.sk-parallel-item:last-child::after {align-self: flex-start;width: 50%;}#sk-a529d7dc-82ad-4f3b-82d3-8d840cbc9784 div.sk-parallel-item:only-child::after {width: 0;}#sk-a529d7dc-82ad-4f3b-82d3-8d840cbc9784 div.sk-dashed-wrapped {border: 1px dashed gray;margin: 0 0.4em 0.5em 0.4em;box-sizing: border-box;padding-bottom: 0.4em;background-color: white;position: relative;}#sk-a529d7dc-82ad-4f3b-82d3-8d840cbc9784 div.sk-label label {font-family: monospace;font-weight: bold;background-color: white;display: inline-block;line-height: 1.2em;}#sk-a529d7dc-82ad-4f3b-82d3-8d840cbc9784 div.sk-label-container {position: relative;z-index: 2;text-align: center;}#sk-a529d7dc-82ad-4f3b-82d3-8d840cbc9784 div.sk-container {/* jupyter's `normalize.less` sets `[hidden] { display: none; }` but bootstrap.min.css set `[hidden] { display: none !important; }` so we also need the `!important` here to be able to override the default hidden behavior on the sphinx rendered scikit-learn.org. See: https://github.com/scikit-learn/scikit-learn/issues/21755 */display: inline-block !important;position: relative;}#sk-a529d7dc-82ad-4f3b-82d3-8d840cbc9784 div.sk-text-repr-fallback {display: none;}</style><div id=\"sk-a529d7dc-82ad-4f3b-82d3-8d840cbc9784\" class=\"sk-top-container\"><div class=\"sk-text-repr-fallback\"><pre>GridSearchCV(estimator=Pipeline(steps=[(&#x27;tfidf&#x27;,\n",
       "                                        TfidfVectorizer(max_df=0.95,\n",
       "                                                        min_df=0.05)),\n",
       "                                       (&#x27;combnb&#x27;, ComplementNB())]),\n",
       "             param_grid={&#x27;combnb__alpha&#x27;: (1, 0.1, 0.01, 0.001, 0.0001, 1e-05),\n",
       "                         &#x27;tfidf__norm&#x27;: (&#x27;l1&#x27;, &#x27;l2&#x27;)})</pre><b>Please rerun this cell to show the HTML repr or trust the notebook.</b></div><div class=\"sk-container\" hidden><div class=\"sk-item sk-dashed-wrapped\"><div class=\"sk-label-container\"><div class=\"sk-label sk-toggleable\"><input class=\"sk-toggleable__control sk-hidden--visually\" id=\"02b2cb81-2a0f-4414-8411-cf990f3ffbde\" type=\"checkbox\" ><label for=\"02b2cb81-2a0f-4414-8411-cf990f3ffbde\" class=\"sk-toggleable__label sk-toggleable__label-arrow\">GridSearchCV</label><div class=\"sk-toggleable__content\"><pre>GridSearchCV(estimator=Pipeline(steps=[(&#x27;tfidf&#x27;,\n",
       "                                        TfidfVectorizer(max_df=0.95,\n",
       "                                                        min_df=0.05)),\n",
       "                                       (&#x27;combnb&#x27;, ComplementNB())]),\n",
       "             param_grid={&#x27;combnb__alpha&#x27;: (1, 0.1, 0.01, 0.001, 0.0001, 1e-05),\n",
       "                         &#x27;tfidf__norm&#x27;: (&#x27;l1&#x27;, &#x27;l2&#x27;)})</pre></div></div></div><div class=\"sk-parallel\"><div class=\"sk-parallel-item\"><div class=\"sk-item\"><div class=\"sk-serial\"><div class=\"sk-item\"><div class=\"sk-serial\"><div class=\"sk-item\"><div class=\"sk-estimator sk-toggleable\"><input class=\"sk-toggleable__control sk-hidden--visually\" id=\"abe2a0a4-e170-4d39-94ba-29894c1aeb95\" type=\"checkbox\" ><label for=\"abe2a0a4-e170-4d39-94ba-29894c1aeb95\" class=\"sk-toggleable__label sk-toggleable__label-arrow\">TfidfVectorizer</label><div class=\"sk-toggleable__content\"><pre>TfidfVectorizer(max_df=0.95, min_df=0.05)</pre></div></div></div><div class=\"sk-item\"><div class=\"sk-estimator sk-toggleable\"><input class=\"sk-toggleable__control sk-hidden--visually\" id=\"29d31751-a76a-46d6-bcc3-8925a4e400c1\" type=\"checkbox\" ><label for=\"29d31751-a76a-46d6-bcc3-8925a4e400c1\" class=\"sk-toggleable__label sk-toggleable__label-arrow\">ComplementNB</label><div class=\"sk-toggleable__content\"><pre>ComplementNB()</pre></div></div></div></div></div></div></div></div></div></div></div></div>"
      ],
      "text/plain": [
       "GridSearchCV(estimator=Pipeline(steps=[('tfidf',\n",
       "                                        TfidfVectorizer(max_df=0.95,\n",
       "                                                        min_df=0.05)),\n",
       "                                       ('combnb', ComplementNB())]),\n",
       "             param_grid={'combnb__alpha': (1, 0.1, 0.01, 0.001, 0.0001, 1e-05),\n",
       "                         'tfidf__norm': ('l1', 'l2')})"
      ]
     },
     "execution_count": 22,
     "metadata": {},
     "output_type": "execute_result"
    }
   ],
   "source": [
    "gs_pipe.fit(transformed_train,y_train)"
   ]
  },
  {
   "cell_type": "code",
   "execution_count": 23,
   "metadata": {},
   "outputs": [
    {
     "data": {
      "text/plain": [
       "{'combnb__alpha': 0.001, 'tfidf__norm': 'l2'}"
      ]
     },
     "execution_count": 23,
     "metadata": {},
     "output_type": "execute_result"
    }
   ],
   "source": [
    "gs_pipe.best_params_"
   ]
  },
  {
   "cell_type": "code",
   "execution_count": 24,
   "metadata": {},
   "outputs": [
    {
     "data": {
      "text/plain": [
       "0.8022729382963073"
      ]
     },
     "execution_count": 24,
     "metadata": {},
     "output_type": "execute_result"
    }
   ],
   "source": [
    "gs_pipe.best_score_"
   ]
  },
  {
   "cell_type": "code",
   "execution_count": 25,
   "metadata": {},
   "outputs": [],
   "source": [
    "from sklearn.metrics import confusion_matrix, ConfusionMatrixDisplay\n",
    "from sklearn.metrics import classification_report\n",
    "from sklearn.metrics import plot_roc_curve, auc,roc_curve,roc_auc_score"
   ]
  },
  {
   "cell_type": "code",
   "execution_count": 26,
   "metadata": {},
   "outputs": [
    {
     "data": {
      "image/png": "[encoded data removed]",
      "text/plain": [
       "<Figure size 640x480 with 2 Axes>"
      ]
     },
     "metadata": {},
     "output_type": "display_data"
    }
   ],
   "source": [
    "best_y_pred = gs_pipe.predict(transformed_test)\n",
    "cm = confusion_matrix(y_test, best_y_pred)\n",
    "disp = ConfusionMatrixDisplay(confusion_matrix=cm\n",
    "                              )\n",
    "disp.plot();"
   ]
  },
  {
   "cell_type": "code",
   "execution_count": 27,
   "metadata": {},
   "outputs": [
    {
     "name": "stdout",
     "output_type": "stream",
     "text": [
      "0.8083929733246584\n"
     ]
    }
   ],
   "source": [
    "print(gs_pipe.score(transformed_test ,y_test))"
   ]
  },
  {
   "cell_type": "code",
   "execution_count": null,
   "metadata": {},
   "outputs": [],
   "source": []
  },
  {
   "cell_type": "code",
   "execution_count": null,
   "metadata": {},
   "outputs": [],
   "source": []
  }
 ],
 "metadata": {
  "kernelspec": {
   "display_name": "Python 3 (ipykernel)",
   "language": "python",
   "name": "python3"
  },
  "language_info": {
   "codemirror_mode": {
    "name": "ipython",
    "version": 3
   },
   "file_extension": ".py",
   "mimetype": "text/x-python",
   "name": "python",
   "nbconvert_exporter": "python",
   "pygments_lexer": "ipython3",
   "version": "3.8.13"
  }
 },
 "nbformat": 4,
 "nbformat_minor": 4
}
